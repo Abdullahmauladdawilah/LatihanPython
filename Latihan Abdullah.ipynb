{
 "cells": [
  {
   "cell_type": "code",
   "execution_count": 1,
   "id": "b0a269a7-3211-4ac5-aba4-88ef891dff1c",
   "metadata": {},
   "outputs": [],
   "source": [
    "import Bio"
   ]
  },
  {
   "cell_type": "code",
   "execution_count": 2,
   "id": "da377ce9-e74a-4871-80d4-3b2cdf312e74",
   "metadata": {},
   "outputs": [],
   "source": [
    "from Bio import Entrez\n",
    "\n",
    "Entrez.email = \"abdullah1md@student.ub.ac.id\""
   ]
  },
  {
   "cell_type": "code",
   "execution_count": 3,
   "id": "08a80b95-5c8e-4739-9047-af45e69a4c67",
   "metadata": {},
   "outputs": [
    {
     "name": "stdout",
     "output_type": "stream",
     "text": [
      "b'<?xml version=\"1.0\" encoding=\"UTF-8\" ?>\\n<!DOCTYPE eInfoResult PUBLIC \"-//NLM//DTD einfo 20190110//EN\" \"https://eutils.ncbi.nlm.nih.gov/eutils/dtd/20190110/einfo.dtd\">\\n<eInfoResult>\\n<DbList>\\n\\n\\t<DbName>pubmed</DbName>\\n\\t<DbName>protein</DbName>\\n\\t<DbName>nuccore</DbName>\\n\\t<DbName>ipg</DbName>\\n\\t<DbName>nucleotide</DbName>\\n\\t<DbName>structure</DbName>\\n\\t<DbName>genome</DbName>\\n\\t<DbName>annotinfo</DbName>\\n\\t<DbName>assembly</DbName>\\n\\t<DbName>bioproject</DbName>\\n\\t<DbName>biosample</DbName>\\n\\t<DbName>blastdbinfo</DbName>\\n\\t<DbName>books</DbName>\\n\\t<DbName>cdd</DbName>\\n\\t<DbName>clinvar</DbName>\\n\\t<DbName>gap</DbName>\\n\\t<DbName>gapplus</DbName>\\n\\t<DbName>grasp</DbName>\\n\\t<DbName>dbvar</DbName>\\n\\t<DbName>gene</DbName>\\n\\t<DbName>gds</DbName>\\n\\t<DbName>geoprofiles</DbName>\\n\\t<DbName>homologene</DbName>\\n\\t<DbName>medgen</DbName>\\n\\t<DbName>mesh</DbName>\\n\\t<DbName>ncbisearch</DbName>\\n\\t<DbName>nlmcatalog</DbName>\\n\\t<DbName>omim</DbName>\\n\\t<DbName>orgtrack</DbName>\\n\\t<DbName>pmc</DbName>\\n\\t<DbName>popset</DbName>\\n\\t<DbName>proteinclusters</DbName>\\n\\t<DbName>pcassay</DbName>\\n\\t<DbName>protfam</DbName>\\n\\t<DbName>biosystems</DbName>\\n\\t<DbName>pccompound</DbName>\\n\\t<DbName>pcsubstance</DbName>\\n\\t<DbName>seqannot</DbName>\\n\\t<DbName>snp</DbName>\\n\\t<DbName>sra</DbName>\\n\\t<DbName>taxonomy</DbName>\\n\\t<DbName>biocollections</DbName>\\n\\t<DbName>gtr</DbName>\\n</DbList>\\n\\n</eInfoResult>\\n'\n"
     ]
    }
   ],
   "source": [
    "handle = Entrez.einfo()\n",
    "print(handle.read())\n",
    "\n",
    "handle.close()"
   ]
  },
  {
   "cell_type": "code",
   "execution_count": 6,
   "id": "899734d3-9c82-4ba5-913c-fb78fdb7981f",
   "metadata": {},
   "outputs": [
    {
     "name": "stdout",
     "output_type": "stream",
     "text": [
      "{'Count': '7', 'RetMax': '7', 'RetStart': '0', 'IdList': ['1910119798', '1909563043', '1907665845', '1907665829', '1248215286', '307828874', '24637377'], 'TranslationSet': [{'From': 'Anabaena Cylindrica', 'To': '\"Anabaena cylindrica\"[Organism] OR Anabaena Cylindrica[All Fields]'}, {'From': 'PCC 7122', 'To': '\"Anabaena cylindrica\"[Organism] OR PCC 7122[All Fields]'}], 'TranslationStack': [{'Term': '\"Anabaena cylindrica\"[Organism]', 'Field': 'Organism', 'Count': '361', 'Explode': 'Y'}, {'Term': 'Anabaena Cylindrica[All Fields]', 'Field': 'All Fields', 'Count': '374', 'Explode': 'N'}, 'OR', 'GROUP', {'Term': 'strain[All Fields]', 'Field': 'All Fields', 'Count': '134295315', 'Explode': 'N'}, 'AND', {'Term': '\"Anabaena cylindrica\"[Organism]', 'Field': 'Organism', 'Count': '361', 'Explode': 'Y'}, {'Term': 'PCC 7122[All Fields]', 'Field': 'All Fields', 'Count': '73', 'Explode': 'N'}, 'OR', 'GROUP', 'AND', {'Term': 'NifD[All Fields]', 'Field': 'All Fields', 'Count': '21652', 'Explode': 'N'}, 'AND', 'GROUP'], 'QueryTranslation': '(\"Anabaena cylindrica\"[Organism] OR Anabaena Cylindrica[All Fields]) AND strain[All Fields] AND (\"Anabaena cylindrica\"[Organism] OR PCC 7122[All Fields]) AND NifD[All Fields]'}\n"
     ]
    }
   ],
   "source": [
    "from Bio import Entrez\n",
    "\n",
    "Entrez.email = \"abdullah1md@student.ub.ac.id\"\n",
    "handle = Entrez.esearch(db=\"nuccore\", term=\"Anabaena Cylindrica strain PCC 7122 NifD\")\n",
    "\n",
    "record = Entrez.read(handle)\n",
    "\n",
    "print(record)\n",
    "\n",
    "handle.close()"
   ]
  },
  {
   "cell_type": "code",
   "execution_count": 10,
   "id": "5da05d42-ad9c-4ce6-b9aa-c6866849defb",
   "metadata": {},
   "outputs": [
    {
     "name": "stdout",
     "output_type": "stream",
     "text": [
      "Anabaena cylindrica strain PCC 7122 NifD.gbk Saved\n"
     ]
    }
   ],
   "source": [
    "import os\n",
    "from Bio import Entrez, SeqIO\n",
    "\n",
    "Entrez.email = \"abdullah1md@student.ub.ac.id\"\n",
    "filename = \"Anabaena cylindrica strain PCC 7122 NifD.gbk\"\n",
    "if not os.path.isfile(\"Anabaena cylindrica strain PCC 7122 NifD.gbk\"):\n",
    "    efetch_handle = Entrez.efetch(db=\"nuccore\", id=\"24637377\", rettype=\"gb\", retmode=\"text\")\n",
    "\n",
    "output_file_handle = open(\"Anabaena cylindrica strain PCC 7122 NifD.gbk\", \"w\")\n",
    "\n",
    "output_file_handle.write(efetch_handle.read())\n",
    "\n",
    "output_file_handle.close()\n",
    "\n",
    "efetch_handle.close()\n",
    "\n",
    "print((str(\"Anabaena cylindrica strain PCC 7122 NifD.gbk\")) + \" Saved\")\n"
   ]
  },
  {
   "cell_type": "code",
   "execution_count": 10,
   "id": "7d9f2871-6775-4a8b-a906-4771cebbe7c1",
   "metadata": {},
   "outputs": [
    {
     "name": "stdout",
     "output_type": "stream",
     "text": [
      ">NifD|Anabaena cylindrica strain PCC 7122 nitrogenase component NifD gene, complete cds\n",
      "ATGACTCCTCCAGATGACAAGAAGATCGTTGAACAAAGAAAAGAACTAGTTAAAGAAGTTCTGAAAGCTTACCCCGAAAAAGCTGCTAAAAAGCGCGAAAAGCACTTAAACGTATTTGAAGAAGGTAAGGCTGATTGTGGTGTTAAATCTAACATCAAATCCCTTCCTGGTGTAATGACTGCTCGTGGTTGTGCTTACGCAGGTTCTAAAGGTGTGGTTTGGGGTCCTATTAAGGACATGATCCACATCAGCCACGGTCCCGTAGGTTGCGGTTACTGGTCTTGGTCTGGTCGTCGTAACTACTACATTGGTACAACAGGTATTGACACCTTTGGTACCATGCACTTCACCTCTGACTTCCAAGAACGCGACATCGTGTTCGGTGGAGACAAGAAACTCACCAAGTTAATTGAAGAATTAGACGTATTATTCCCACTTAACCGTGGTGTTTCTATTCAATCTGAATGTCCTATCGGTCTAATTGGGGATGACATCGAAGCAGTAGCTAAGAAGACATCCAAAACTATCGGTAAGCCAGTTATTCCTGTACGTTGCGAAGGTTTCCGTGGTGTGTCTCAGTCTTTAGGACACCACATTGCTAACGACATGATTCGTGACTGGGTATTCCCCAGAGCAGATCAAGGTAAGAAAGACGGTACATTGAAGTTTGAAGGCACTCCTTATGATGTAGCCGTCATTGGTGACTACAACATCGGTGGTGATGCTTGGGCGAGCCGCATCTTATTAGAAGAAATCGGTTTGCGCGTTGTTGCTCAATGGTCTGGTGATGGTACAATCAACGAAATGTTGATGACCCCCAACGTGAAGATGAACCTCATCCACTGTTACCGCTCGATGAACTACATCAGCCGTCACATGGAAGAAGCTTATGGTATACCCTGGTTGGAGTATAATTTCTTCGGTCCTACCAAGATTGCTGCATCTTTACGCGAAATTGCTTCTAAGTTTGACGCGAAAATCCAAGCAAATGCTGAGAAGGTAATTGCTAAGTACCAACCTACCATGGATGCGATCGTTTCTAAATATCGCCCCCGTTTGGAAGGTAAGACAGTTGCAATGATGGTTGGTGGTCTACGTCCTCGTCACGTTGTTCCCGCTTTCCAAGATTTAGGAATGAAGATGATTGGTACTGGTTATGAGTTCGCTCACAACGACGACTATAAACGTACTACCAACTACATCGAAAACGGAACTATCGTTTATGACGACGTTACCGCTTACGAATTTGAAGAATTCATCAAAGCATTGAAGCCAGACTTAGTTGCTTCTGGTGTGAAAGAGAAGTATGTATTCCAAAAAATGGGTCTTCCTTTCCGTCAAATGCACTCTTGGGATTACTCCGGTCCTTATCACGGTTACGACGGATTCGCAATCTTTGCTCGTGACATGGATTTGGCGCTAAACAGCCCAACCTGGGGATTAATCGGCGCTCCCTGGAACAAGAAAGCTCAAGCTAAAGCTAAGGCTAAAGCTTCCGTCTAG\n"
     ]
    }
   ],
   "source": [
    "#Code 8 (continued)\n",
    "\n",
    "from Bio import Entrez, SeqIO\n",
    "GoI = \"NifD\" #change \" NifD\" here with your GoI\n",
    "\n",
    "for genome in SeqIO.parse(\"Anabaena cylindrica strain PCC 7122 NifD.gbk\",\"genbank\"):\n",
    "        for gene in genome.features:\n",
    "            if gene.type != \"CDS\":\n",
    "                continue\n",
    "            if \"gene\" not in gene.qualifiers:\n",
    "                continue\n",
    "            if GoI not in gene.qualifiers[\"gene\"][0]:\n",
    "                continue\n",
    "        gene_seq = gene.extract(genome.seq)\n",
    "\n",
    "GoI_fasta = \">%s|%s\\n%s\" % (GoI, genome.description, gene_seq)\n",
    "print(GoI_fasta)"
   ]
  },
  {
   "cell_type": "code",
   "execution_count": 1,
   "id": "17a17c34-6859-45d3-ac7a-70a09c9aea99",
   "metadata": {},
   "outputs": [
    {
     "name": "stdout",
     "output_type": "stream",
     "text": [
      "Anabaena cylindrica strain PCC 7122 NifD.fasta Saved\n"
     ]
    }
   ],
   "source": [
    "import os\n",
    "from Bio import Entrez, SeqIO\n",
    "\n",
    "Entrez.email = \"abdullah1md@student.ub.ac.id\"\n",
    "filename = \"Anabaena cylindrica strain PCC 7122 NifD.fasta\"\n",
    "if not os.path.isfile(\"Anabaena cylindrica strain PCC 7122 NifD.fasta\"):\n",
    "    efetch_handle = Entrez.efetch(db=\"nuccore\", id=\"24637377\", rettype=\"fasta\", retmode=\"text\")\n",
    "\n",
    "output_file_handle = open(\"Anabaena cylindrica strain PCC 7122 NifD.fasta\", \"w\")\n",
    "\n",
    "output_file_handle.write(efetch_handle.read())\n",
    "\n",
    "output_file_handle.close()\n",
    "\n",
    "efetch_handle.close()\n",
    "\n",
    "print((str(\"Anabaena cylindrica strain PCC 7122 NifD.fasta\")) + \" Saved\")"
   ]
  },
  {
   "cell_type": "code",
   "execution_count": null,
   "id": "0ec53bfc-43da-412a-bdd9-ee43f64e4e2d",
   "metadata": {},
   "outputs": [],
   "source": []
  }
 ],
 "metadata": {
  "kernelspec": {
   "display_name": "Python 3 (ipykernel)",
   "language": "python",
   "name": "python3"
  },
  "language_info": {
   "codemirror_mode": {
    "name": "ipython",
    "version": 3
   },
   "file_extension": ".py",
   "mimetype": "text/x-python",
   "name": "python",
   "nbconvert_exporter": "python",
   "pygments_lexer": "ipython3",
   "version": "3.8.12"
  }
 },
 "nbformat": 4,
 "nbformat_minor": 5
}
